{
  "cells": [
    {
      "cell_type": "code",
      "execution_count": null,
      "metadata": {
        "colab": {
          "base_uri": "https://localhost:8080/"
        },
        "id": "4ytlb3G8N3Ki",
        "outputId": "3c44b550-addb-43c2-84e3-cc87e24d9817"
      },
      "outputs": [
        {
          "name": "stdout",
          "output_type": "stream",
          "text": [
            "Mounted at /content/gdrive\n"
          ]
        }
      ],
      "source": [
        "import copy\n",
        "from google.colab import drive\n",
        "drive.mount('/content/gdrive')"
      ]
    },
    {
      "cell_type": "code",
      "execution_count": null,
      "metadata": {
        "id": "ClRZKVtNOeAe"
      },
      "outputs": [],
      "source": [
        "import json\n",
        "\n",
        "path = F\"/content/gdrive/My Drive/Model-wise Double Descent/log.json\"\n",
        "\n",
        "with open(path) as f:\n",
        "  log = json.load(f)"
      ]
    },
    {
      "cell_type": "code",
      "execution_count": null,
      "metadata": {
        "colab": {
          "base_uri": "https://localhost:8080/"
        },
        "id": "F57vC3toVSFo",
        "outputId": "e45c6873-2a4a-42bf-db4d-a133dc37182d"
      },
      "outputs": [
        {
          "data": {
            "text/plain": [
              "[{'nparameters': '', 'training_loss': '', 'test_loss': ''},\n",
              " {'nparameters': 805,\n",
              "  'training_loss': 0.07738388329744339,\n",
              "  'test_loss': 0.07929391413927078},\n",
              " {'nparameters': 3985,\n",
              "  'training_loss': 0.06789878755807877,\n",
              "  'test_loss': 0.07063966989517212},\n",
              " {'nparameters': 7960,\n",
              "  'training_loss': 0.00783693790435791,\n",
              "  'test_loss': 0.054386429488658905},\n",
              " {'nparameters': 19885,\n",
              "  'training_loss': 0.0008756144670769572,\n",
              "  'test_loss': 0.040153998881578445},\n",
              " {'nparameters': 35785,\n",
              "  'training_loss': 0.000497737608384341,\n",
              "  'test_loss': 0.029486054554581642},\n",
              " {'nparameters': 36580,\n",
              "  'training_loss': 0.0009558104793541133,\n",
              "  'test_loss': 0.02733639068901539},\n",
              " {'nparameters': 37375,\n",
              "  'training_loss': 0.0005806735134683549,\n",
              "  'test_loss': 0.029139293357729912},\n",
              " {'nparameters': 38170,\n",
              "  'training_loss': 0.001027540653012693,\n",
              "  'test_loss': 0.02899189107120037},\n",
              " {'nparameters': 38965,\n",
              "  'training_loss': 0.00023213606618810445,\n",
              "  'test_loss': 0.02686425857245922},\n",
              " {'nparameters': 39760,\n",
              "  'training_loss': 0.0007313163368962705,\n",
              "  'test_loss': 0.027198979631066322},\n",
              " {'nparameters': 40555,\n",
              "  'training_loss': 0.0005330168642103672,\n",
              "  'test_loss': 0.027672480791807175},\n",
              " {'nparameters': 41350,\n",
              "  'training_loss': 0.0005897636874578893,\n",
              "  'test_loss': 0.029876239597797394},\n",
              " {'nparameters': 42145,\n",
              "  'training_loss': 0.0003463141620159149,\n",
              "  'test_loss': 0.027158593758940697},\n",
              " {'nparameters': 42940,\n",
              "  'training_loss': 0.0005422817775979638,\n",
              "  'test_loss': 0.025609349831938744},\n",
              " {'nparameters': 43735,\n",
              "  'training_loss': 0.0004336029523983598,\n",
              "  'test_loss': 0.024948149919509888},\n",
              " {'nparameters': 59635,\n",
              "  'training_loss': 0.00033640244510024786,\n",
              "  'test_loss': 0.02254289574921131},\n",
              " {'nparameters': 67585,\n",
              "  'training_loss': 0.000566061120480299,\n",
              "  'test_loss': 0.024594534188508987},\n",
              " {'nparameters': 75535,\n",
              "  'training_loss': 0.0002864047419279814,\n",
              "  'test_loss': 0.021885158494114876},\n",
              " {'nparameters': 198760,\n",
              "  'training_loss': 2.3129292458179407e-05,\n",
              "  'test_loss': 0.01868629641830921},\n",
              " {'nparameters': 397510,\n",
              "  'training_loss': 3.726444447238464e-06,\n",
              "  'test_loss': 0.01663803681731224},\n",
              " {'nparameters': 397510,\n",
              "  'training_loss': 3.726444447238464e-06,\n",
              "  'test_loss': 0.01663803681731224},\n",
              " {'nparameters': 795010,\n",
              "  'training_loss': 4.442143506366847e-07,\n",
              "  'test_loss': 0.016701089218258858}]"
            ]
          },
          "execution_count": 3,
          "metadata": {},
          "output_type": "execute_result"
        }
      ],
      "source": [
        "log"
      ]
    },
    {
      "cell_type": "code",
      "execution_count": null,
      "metadata": {
        "id": "yvC0emfqihP9"
      },
      "outputs": [],
      "source": [
        "import torch\n",
        "import torch.nn as nn\n",
        "import torchvision\n",
        "import torchvision.transforms as transforms\n",
        "\n",
        "train_dataset = torchvision.datasets.MNIST(root='/data', \n",
        "                                           train=True, \n",
        "                                           transform=transforms.ToTensor(),  \n",
        "                                           download=True)\n",
        "\n",
        "test_dataset = torchvision.datasets.MNIST(root='/data', \n",
        "                                          train=False, \n",
        "                                          transform=transforms.ToTensor())\n"
      ]
    },
    {
      "cell_type": "code",
      "execution_count": null,
      "metadata": {
        "id": "tDWqk5CUB0WQ"
      },
      "outputs": [],
      "source": [
        "train_4000 = torch.utils.data.Subset(train_dataset, range(0, 4000))"
      ]
    },
    {
      "cell_type": "code",
      "execution_count": null,
      "metadata": {
        "id": "YpVuVlu2jvjL"
      },
      "outputs": [],
      "source": [
        "# Data loader\n",
        "batch_size = 100\n",
        "\n",
        "train_loader = torch.utils.data.DataLoader(dataset=train_4000, \n",
        "                                           batch_size=batch_size, \n",
        "                                           shuffle=True)\n",
        "\n",
        "test_loader = torch.utils.data.DataLoader(dataset=test_dataset, \n",
        "                                          batch_size=batch_size, \n",
        "                                          shuffle=False)\n"
      ]
    },
    {
      "cell_type": "code",
      "execution_count": null,
      "metadata": {
        "id": "goJQIgg-kBL8"
      },
      "outputs": [],
      "source": [
        "class FCNN(nn.Module):\n",
        "\n",
        "  def __init__(self, input_size, num_hidden, num_classes):\n",
        "    super(FCNN, self).__init__()\n",
        "    self.fc1 = nn.Linear(input_size, num_hidden)\n",
        "    self.relu = nn.ReLU()\n",
        "    self.fc2 = nn.Linear(num_hidden, num_classes)\n",
        "\n",
        "  def forward(self, x):\n",
        "\n",
        "    y = self.fc1(x)\n",
        "    y = self.relu(y)\n",
        "    y = self.fc2(y)\n",
        "\n",
        "    return y"
      ]
    },
    {
      "cell_type": "code",
      "execution_count": null,
      "metadata": {
        "id": "iVtPtPLonTKt"
      },
      "outputs": [],
      "source": [
        "device = torch.device('cuda' if torch.cuda.is_available() else 'cpu')\n",
        "\n",
        "input_size = 784\n",
        "num_classes = 10\n",
        "num_hidden = 54\n",
        "\n",
        "model = FCNN(input_size, num_hidden, num_classes)"
      ]
    },
    {
      "cell_type": "code",
      "execution_count": null,
      "metadata": {
        "colab": {
          "base_uri": "https://localhost:8080/"
        },
        "id": "LOr5U2kmcR3G",
        "outputId": "e064c760-804b-477c-cc18-d666b41da298"
      },
      "outputs": [
        {
          "data": {
            "text/plain": [
              "42940"
            ]
          },
          "execution_count": 36,
          "metadata": {},
          "output_type": "execute_result"
        }
      ],
      "source": [
        "def count_parameters(model):\n",
        "    return sum(p.numel() for p in model.parameters() if p.requires_grad)\n",
        "\n",
        "count_parameters(model)"
      ]
    },
    {
      "cell_type": "code",
      "execution_count": null,
      "metadata": {
        "colab": {
          "base_uri": "https://localhost:8080/"
        },
        "id": "tThmEIyrHTeH",
        "outputId": "47f866e0-6576-4bce-ca63-079b9fa4e942"
      },
      "outputs": [
        {
          "name": "stdout",
          "output_type": "stream",
          "text": [
            "Model: FCNN-42940 Epoch [1/6000], Step [40/40], Training Loss: 0.0751, Test Loss: 0.0761\n",
            "Model: FCNN-42940 Epoch [101/6000], Step [40/40], Training Loss: 0.0119, Test Loss: 0.0236\n",
            "Model: FCNN-42940 Epoch [201/6000], Step [40/40], Training Loss: 0.0102, Test Loss: 0.0223\n",
            "Model: FCNN-42940 Epoch [301/6000], Step [40/40], Training Loss: 0.0070, Test Loss: 0.0225\n",
            "Model: FCNN-42940 Epoch [401/6000], Step [40/40], Training Loss: 0.0067, Test Loss: 0.0222\n",
            "Model: FCNN-42940 Epoch [501/6000], Step [40/40], Training Loss: 0.0050, Test Loss: 0.0221\n",
            "Model: FCNN-42940 Epoch [601/6000], Step [40/40], Training Loss: 0.0036, Test Loss: 0.0223\n",
            "Model: FCNN-42940 Epoch [701/6000], Step [40/40], Training Loss: 0.0039, Test Loss: 0.0225\n",
            "Model: FCNN-42940 Epoch [801/6000], Step [40/40], Training Loss: 0.0038, Test Loss: 0.0224\n",
            "Model: FCNN-42940 Epoch [901/6000], Step [40/40], Training Loss: 0.0035, Test Loss: 0.0226\n",
            "Model: FCNN-42940 Epoch [1001/6000], Step [40/40], Training Loss: 0.0026, Test Loss: 0.0230\n",
            "Model: FCNN-42940 Epoch [1101/6000], Step [40/40], Training Loss: 0.0025, Test Loss: 0.0231\n",
            "Model: FCNN-42940 Epoch [1201/6000], Step [40/40], Training Loss: 0.0023, Test Loss: 0.0231\n",
            "Model: FCNN-42940 Epoch [1301/6000], Step [40/40], Training Loss: 0.0019, Test Loss: 0.0235\n",
            "Model: FCNN-42940 Epoch [1401/6000], Step [40/40], Training Loss: 0.0027, Test Loss: 0.0235\n",
            "Model: FCNN-42940 Epoch [1501/6000], Step [40/40], Training Loss: 0.0017, Test Loss: 0.0235\n",
            "Model: FCNN-42940 Epoch [1601/6000], Step [40/40], Training Loss: 0.0017, Test Loss: 0.0238\n",
            "Model: FCNN-42940 Epoch [1701/6000], Step [40/40], Training Loss: 0.0016, Test Loss: 0.0240\n",
            "Model: FCNN-42940 Epoch [1801/6000], Step [40/40], Training Loss: 0.0019, Test Loss: 0.0243\n",
            "Model: FCNN-42940 Epoch [1901/6000], Step [40/40], Training Loss: 0.0015, Test Loss: 0.0245\n",
            "Model: FCNN-42940 Epoch [2001/6000], Step [40/40], Training Loss: 0.0018, Test Loss: 0.0245\n",
            "Model: FCNN-42940 Epoch [2101/6000], Step [40/40], Training Loss: 0.0012, Test Loss: 0.0247\n",
            "Model: FCNN-42940 Epoch [2201/6000], Step [40/40], Training Loss: 0.0017, Test Loss: 0.0249\n",
            "Model: FCNN-42940 Epoch [2301/6000], Step [40/40], Training Loss: 0.0018, Test Loss: 0.0250\n",
            "Model: FCNN-42940 Epoch [2401/6000], Step [40/40], Training Loss: 0.0016, Test Loss: 0.0250\n",
            "Model: FCNN-42940 Epoch [2501/6000], Step [40/40], Training Loss: 0.0009, Test Loss: 0.0251\n",
            "Model: FCNN-42940 Epoch [2601/6000], Step [40/40], Training Loss: 0.0021, Test Loss: 0.0254\n",
            "Model: FCNN-42940 Epoch [2701/6000], Step [40/40], Training Loss: 0.0009, Test Loss: 0.0256\n",
            "Model: FCNN-42940 Epoch [2801/6000], Step [40/40], Training Loss: 0.0011, Test Loss: 0.0259\n",
            "Model: FCNN-42940 Epoch [2901/6000], Step [40/40], Training Loss: 0.0013, Test Loss: 0.0260\n",
            "Model: FCNN-42940 Epoch [3001/6000], Step [40/40], Training Loss: 0.0010, Test Loss: 0.0260\n",
            "Model: FCNN-42940 Epoch [3101/6000], Step [40/40], Training Loss: 0.0009, Test Loss: 0.0263\n",
            "Model: FCNN-42940 Epoch [3201/6000], Step [40/40], Training Loss: 0.0010, Test Loss: 0.0265\n",
            "Model: FCNN-42940 Epoch [3301/6000], Step [40/40], Training Loss: 0.0010, Test Loss: 0.0265\n",
            "Model: FCNN-42940 Epoch [3401/6000], Step [40/40], Training Loss: 0.0011, Test Loss: 0.0266\n",
            "Model: FCNN-42940 Epoch [3501/6000], Step [40/40], Training Loss: 0.0011, Test Loss: 0.0267\n",
            "Model: FCNN-42940 Epoch [3601/6000], Step [40/40], Training Loss: 0.0009, Test Loss: 0.0269\n",
            "Model: FCNN-42940 Epoch [3701/6000], Step [40/40], Training Loss: 0.0008, Test Loss: 0.0271\n",
            "Model: FCNN-42940 Epoch [3801/6000], Step [40/40], Training Loss: 0.0008, Test Loss: 0.0272\n",
            "Model: FCNN-42940 Epoch [3901/6000], Step [40/40], Training Loss: 0.0025, Test Loss: 0.0272\n",
            "Model: FCNN-42940 Epoch [4001/6000], Step [40/40], Training Loss: 0.0009, Test Loss: 0.0273\n",
            "Model: FCNN-42940 Epoch [4101/6000], Step [40/40], Training Loss: 0.0007, Test Loss: 0.0275\n",
            "Model: FCNN-42940 Epoch [4201/6000], Step [40/40], Training Loss: 0.0011, Test Loss: 0.0275\n",
            "Model: FCNN-42940 Epoch [4301/6000], Step [40/40], Training Loss: 0.0006, Test Loss: 0.0278\n",
            "Model: FCNN-42940 Epoch [4401/6000], Step [40/40], Training Loss: 0.0018, Test Loss: 0.0278\n",
            "Model: FCNN-42940 Epoch [4501/6000], Step [40/40], Training Loss: 0.0010, Test Loss: 0.0280\n",
            "Model: FCNN-42940 Epoch [4601/6000], Step [40/40], Training Loss: 0.0005, Test Loss: 0.0281\n",
            "Model: FCNN-42940 Epoch [4701/6000], Step [40/40], Training Loss: 0.0009, Test Loss: 0.0283\n",
            "Model: FCNN-42940 Epoch [4801/6000], Step [40/40], Training Loss: 0.0008, Test Loss: 0.0282\n",
            "Model: FCNN-42940 Epoch [4901/6000], Step [40/40], Training Loss: 0.0009, Test Loss: 0.0283\n",
            "Model: FCNN-42940 Epoch [5001/6000], Step [40/40], Training Loss: 0.0008, Test Loss: 0.0285\n",
            "Model: FCNN-42940 Epoch [5101/6000], Step [40/40], Training Loss: 0.0008, Test Loss: 0.0287\n",
            "Model: FCNN-42940 Epoch [5201/6000], Step [40/40], Training Loss: 0.0006, Test Loss: 0.0286\n",
            "Model: FCNN-42940 Epoch [5301/6000], Step [40/40], Training Loss: 0.0007, Test Loss: 0.0288\n",
            "Model: FCNN-42940 Epoch [5401/6000], Step [40/40], Training Loss: 0.0004, Test Loss: 0.0289\n",
            "Model: FCNN-42940 Epoch [5501/6000], Step [40/40], Training Loss: 0.0018, Test Loss: 0.0290\n",
            "Model: FCNN-42940 Epoch [5601/6000], Step [40/40], Training Loss: 0.0005, Test Loss: 0.0290\n",
            "Model: FCNN-42940 Epoch [5701/6000], Step [40/40], Training Loss: 0.0004, Test Loss: 0.0293\n",
            "Model: FCNN-42940 Epoch [5801/6000], Step [40/40], Training Loss: 0.0005, Test Loss: 0.0292\n",
            "Model: FCNN-42940 Epoch [5901/6000], Step [40/40], Training Loss: 0.0006, Test Loss: 0.0294\n"
          ]
        }
      ],
      "source": [
        "num_epochs = 6000\n",
        "criterion = nn.MSELoss()\n",
        "optimizer = torch.optim.SGD(model.parameters(), lr = 0.01, momentum = 0.95)\n",
        "total_step = len(train_loader)\n",
        "\n",
        "training_losses = []\n",
        "test_losses = []\n",
        "interpolation = 0\n",
        "\n",
        "for epoch in range(num_epochs):\n",
        "\n",
        "  for i, (images, labels) in enumerate(train_loader):\n",
        "\n",
        "          images = images.reshape(-1, 28*28).to(device)\n",
        "          labels = labels.to(device)\n",
        "          labels = torch.nn.functional.one_hot(labels, 10).float()\n",
        "          # Forward pass\n",
        "          outputs = model(images)\n",
        "          train_loss = criterion(outputs, labels)\n",
        "          \n",
        "          # Backpropagation and optimization\n",
        "          optimizer.zero_grad()\n",
        "          train_loss.backward()\n",
        "          optimizer.step()\n",
        "\n",
        "          if interpolation == 0:\n",
        "            if train_loss == 0:\n",
        "              interpolation = 1\n",
        "              training_losses.append(train_loss.item())\n",
        "              \n",
        "              with torch.no_grad():\n",
        "                correct = 0\n",
        "                total = 0\n",
        "                for images, labels in test_loader:\n",
        "                    images = images.reshape(-1, 28*28).to(device)\n",
        "                    labels = labels.to(device)\n",
        "                    labels = torch.nn.functional.one_hot(labels, 10).float()\n",
        "                    outputs = model(images)\n",
        "                    test_loss = criterion(outputs, labels)\n",
        "                \n",
        "              test_losses.append(test_loss.item())\n",
        "\n",
        "              print ('Model: FCNN-{} Epoch [{}/{}], Step [{}/{}], Training Loss: {:.4f}, Test Loss: {:.4f}' \n",
        "                  .format(count_parameters(model), epoch+1, num_epochs, i+1, total_step, train_loss.item(), test_loss.item()))\n",
        "              break\n",
        "\n",
        "          if epoch % 100 == 0 and i + 1 == len(train_loader):\n",
        "\n",
        "            training_losses.append(train_loss.item())\n",
        "            \n",
        "            with torch.no_grad():\n",
        "              correct = 0\n",
        "              total = 0\n",
        "              for images, labels in test_loader:\n",
        "                  images = images.reshape(-1, 28*28).to(device)\n",
        "                  labels = labels.to(device)\n",
        "                  labels = torch.nn.functional.one_hot(labels, 10).float()\n",
        "                  outputs = model(images)\n",
        "                  test_loss = criterion(outputs, labels)\n",
        "              \n",
        "            test_losses.append(test_loss.item())\n",
        "\n",
        "            print ('Model: FCNN-{} Epoch [{}/{}], Step [{}/{}], Training Loss: {:.4f}, Test Loss: {:.4f}' \n",
        "                .format(count_parameters(model), epoch+1, num_epochs, i+1, total_step, train_loss.item(), test_loss.item()))"
      ]
    },
    {
      "cell_type": "code",
      "execution_count": null,
      "metadata": {
        "id": "IRWao7OoVcRr"
      },
      "outputs": [],
      "source": [
        "log.append({\"nparameters\": count_parameters(model), \"training_loss\": train_loss.item(), \"test_loss\": test_loss.item()})\n",
        "\n",
        "with open(path, 'w') as f:\n",
        "  json.dump(log, f, indent = 4, separators = (',',': '))"
      ]
    },
    {
      "cell_type": "code",
      "execution_count": null,
      "metadata": {
        "colab": {
          "base_uri": "https://localhost:8080/"
        },
        "id": "HoZa5-uVsh2B",
        "outputId": "7dc5ff54-2f98-442a-f59c-272d0c0da3cf"
      },
      "outputs": [
        {
          "data": {
            "text/plain": [
              "[{'nparameters': '', 'training_loss': '', 'test_loss': ''},\n",
              " {'nparameters': 805,\n",
              "  'training_loss': 0.07738388329744339,\n",
              "  'test_loss': 0.07929391413927078},\n",
              " {'nparameters': 3985,\n",
              "  'training_loss': 0.06789878755807877,\n",
              "  'test_loss': 0.07063966989517212},\n",
              " {'nparameters': 7960,\n",
              "  'training_loss': 0.00783693790435791,\n",
              "  'test_loss': 0.054386429488658905},\n",
              " {'nparameters': 19885,\n",
              "  'training_loss': 0.0008756144670769572,\n",
              "  'test_loss': 0.040153998881578445},\n",
              " {'nparameters': 35785,\n",
              "  'training_loss': 0.000497737608384341,\n",
              "  'test_loss': 0.029486054554581642},\n",
              " {'nparameters': 36580,\n",
              "  'training_loss': 0.0009558104793541133,\n",
              "  'test_loss': 0.02733639068901539},\n",
              " {'nparameters': 37375,\n",
              "  'training_loss': 0.0005806735134683549,\n",
              "  'test_loss': 0.029139293357729912},\n",
              " {'nparameters': 38170,\n",
              "  'training_loss': 0.001027540653012693,\n",
              "  'test_loss': 0.02899189107120037},\n",
              " {'nparameters': 38965,\n",
              "  'training_loss': 0.00023213606618810445,\n",
              "  'test_loss': 0.02686425857245922},\n",
              " {'nparameters': 39760,\n",
              "  'training_loss': 0.0007313163368962705,\n",
              "  'test_loss': 0.027198979631066322},\n",
              " {'nparameters': 40555,\n",
              "  'training_loss': 0.0005330168642103672,\n",
              "  'test_loss': 0.027672480791807175},\n",
              " {'nparameters': 41350,\n",
              "  'training_loss': 0.0005897636874578893,\n",
              "  'test_loss': 0.029876239597797394},\n",
              " {'nparameters': 42145,\n",
              "  'training_loss': 0.0003463141620159149,\n",
              "  'test_loss': 0.027158593758940697},\n",
              " {'nparameters': 42940,\n",
              "  'training_loss': 0.0005422817775979638,\n",
              "  'test_loss': 0.025609349831938744},\n",
              " {'nparameters': 43735,\n",
              "  'training_loss': 0.0004336029523983598,\n",
              "  'test_loss': 0.024948149919509888},\n",
              " {'nparameters': 59635,\n",
              "  'training_loss': 0.00033640244510024786,\n",
              "  'test_loss': 0.02254289574921131},\n",
              " {'nparameters': 67585,\n",
              "  'training_loss': 0.000566061120480299,\n",
              "  'test_loss': 0.024594534188508987},\n",
              " {'nparameters': 75535,\n",
              "  'training_loss': 0.0002864047419279814,\n",
              "  'test_loss': 0.021885158494114876},\n",
              " {'nparameters': 198760,\n",
              "  'training_loss': 2.3129292458179407e-05,\n",
              "  'test_loss': 0.01868629641830921},\n",
              " {'nparameters': 397510,\n",
              "  'training_loss': 3.726444447238464e-06,\n",
              "  'test_loss': 0.01663803681731224},\n",
              " {'nparameters': 397510,\n",
              "  'training_loss': 3.726444447238464e-06,\n",
              "  'test_loss': 0.01663803681731224},\n",
              " {'nparameters': 795010,\n",
              "  'training_loss': 4.442143506366847e-07,\n",
              "  'test_loss': 0.016701089218258858}]"
            ]
          },
          "execution_count": 11,
          "metadata": {},
          "output_type": "execute_result"
        }
      ],
      "source": [
        "log"
      ]
    },
    {
      "cell_type": "code",
      "execution_count": null,
      "metadata": {
        "id": "k6QT7L2hcKPv"
      },
      "outputs": [],
      "source": [
        "nparameters = []\n",
        "training_loss = []\n",
        "test_loss = []\n",
        "\n",
        "for i, entry in enumerate(log):\n",
        "  if i == 0:\n",
        "    continue\n",
        "  nparameters.append(log[i]['nparameters'])\n",
        "  training_loss.append(log[i]['training_loss'])\n",
        "  test_loss.append(log[i]['test_loss'])\n"
      ]
    },
    {
      "cell_type": "code",
      "execution_count": null,
      "metadata": {
        "colab": {
          "base_uri": "https://localhost:8080/"
        },
        "id": "fn7H2EMbddxI",
        "outputId": "baaaec8e-e20d-4c81-cb02-e0e6ad56537f"
      },
      "outputs": [
        {
          "data": {
            "text/plain": [
              "[0.07738388329744339,\n",
              " 0.06789878755807877,\n",
              " 0.00783693790435791,\n",
              " 0.0008756144670769572,\n",
              " 0.000497737608384341,\n",
              " 0.0009558104793541133,\n",
              " 0.0005806735134683549,\n",
              " 0.001027540653012693,\n",
              " 0.00023213606618810445,\n",
              " 0.0007313163368962705,\n",
              " 0.0005330168642103672,\n",
              " 0.0005897636874578893,\n",
              " 0.0003463141620159149,\n",
              " 0.0005422817775979638,\n",
              " 0.0004336029523983598,\n",
              " 0.00033640244510024786,\n",
              " 0.000566061120480299,\n",
              " 0.0002864047419279814,\n",
              " 2.3129292458179407e-05,\n",
              " 3.726444447238464e-06,\n",
              " 3.726444447238464e-06,\n",
              " 4.442143506366847e-07]"
            ]
          },
          "execution_count": 5,
          "metadata": {},
          "output_type": "execute_result"
        }
      ],
      "source": [
        "training_loss"
      ]
    },
    {
      "cell_type": "code",
      "execution_count": null,
      "metadata": {
        "colab": {
          "base_uri": "https://localhost:8080/"
        },
        "id": "S7WjLUC2d7A1",
        "outputId": "eab9e1e9-1f3b-4ddc-ff15-6182be10695b"
      },
      "outputs": [
        {
          "data": {
            "text/plain": [
              "[0.07929391413927078,\n",
              " 0.07063966989517212,\n",
              " 0.054386429488658905,\n",
              " 0.040153998881578445,\n",
              " 0.029486054554581642,\n",
              " 0.02733639068901539,\n",
              " 0.029139293357729912,\n",
              " 0.02899189107120037,\n",
              " 0.02686425857245922,\n",
              " 0.027198979631066322,\n",
              " 0.027672480791807175,\n",
              " 0.029876239597797394,\n",
              " 0.027158593758940697,\n",
              " 0.025609349831938744,\n",
              " 0.024948149919509888,\n",
              " 0.02254289574921131,\n",
              " 0.024594534188508987,\n",
              " 0.021885158494114876,\n",
              " 0.01868629641830921,\n",
              " 0.01663803681731224,\n",
              " 0.01663803681731224,\n",
              " 0.016701089218258858]"
            ]
          },
          "execution_count": 6,
          "metadata": {},
          "output_type": "execute_result"
        }
      ],
      "source": [
        "test_loss"
      ]
    },
    {
      "cell_type": "code",
      "execution_count": null,
      "metadata": {
        "colab": {
          "base_uri": "https://localhost:8080/",
          "height": 265
        },
        "id": "NLHacEMpdAP2",
        "outputId": "94453a00-f5cb-4497-cb55-478ee9f503e9"
      },
      "outputs": [
        {
          "data": {
            "image/png": "[encoded data removed]",
            "text/plain": [
              "<Figure size 432x288 with 1 Axes>"
            ]
          },
          "metadata": {
            "needs_background": "light"
          },
          "output_type": "display_data"
        }
      ],
      "source": [
        "import matplotlib.pyplot as plt\n",
        "import numpy as np\n",
        "\n",
        "plt.plot(nparameters, training_loss)\n",
        "plt.plot(nparameters, test_loss)\n",
        "\n",
        "plt.show()"
      ]
    },
    {
      "cell_type": "code",
      "execution_count": null,
      "metadata": {
        "id": "mgmKHY-hL2W0"
      },
      "outputs": [],
      "source": []
    }
  ],
  "metadata": {
    "colab": {
      "provenance": []
    },
    "kernelspec": {
      "display_name": "Python 3",
      "name": "python3"
    },
    "language_info": {
      "name": "python",
      "version": "3.10.9"
    }
  },
  "nbformat": 4,
  "nbformat_minor": 0
}
